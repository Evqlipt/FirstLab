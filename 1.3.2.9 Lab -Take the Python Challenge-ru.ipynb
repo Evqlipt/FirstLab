{
  "metadata": {
    "anaconda-cloud": {},
    "kernelspec": {
      "name": "python",
      "display_name": "Python (Pyodide)",
      "language": "python"
    },
    "language_info": {
      "codemirror_mode": {
        "name": "python",
        "version": 3
      },
      "file_extension": ".py",
      "mimetype": "text/x-python",
      "name": "python",
      "nbconvert_exporter": "python",
      "pygments_lexer": "ipython3",
      "version": "3.8"
    }
  },
  "nbformat_minor": 4,
  "nbformat": 4,
  "cells": [
    {
      "cell_type": "markdown",
      "source": "![Title](Images/cisco.png)",
      "metadata": {}
    },
    {
      "cell_type": "markdown",
      "source": "# Lab - Примите вызов Python \n\n\nЭто необязательное упражнение, чтобы проверить Ваше понимание основ Python. Однако мы настоятельно рекомендуем ученику выполнить эти упражнения, чтобы подготовиться к остальной части этого курса. Если Вы не знаете, как их решить, изучите лекции Python, доступные в папке Course Materials / Tutorials and Demos.",
      "metadata": {}
    },
    {
      "cell_type": "markdown",
      "source": "#### Ответьте на вопросы или выполните перечисленные ниже задачи, используйте описанный метод, если это применимо.",
      "metadata": {}
    },
    {
      "cell_type": "markdown",
      "source": "#### 1) Сколько будет если 3 возвести в 5 степень?",
      "metadata": {}
    },
    {
      "cell_type": "code",
      "source": "print(pow(3,5))\n",
      "metadata": {
        "trusted": true
      },
      "execution_count": 2,
      "outputs": [
        {
          "name": "stdout",
          "text": "243\n",
          "output_type": "stream"
        }
      ]
    },
    {
      "cell_type": "markdown",
      "source": "#### 2) Создайте переменную *`s`*, содержащую строку \"This course is amazing!\". Используя переменную, преобразуйте строку в список.",
      "metadata": {}
    },
    {
      "cell_type": "code",
      "source": "# Ячейка для кода №2\ns = \"This course is amazing!\"\ns.split()",
      "metadata": {
        "trusted": true
      },
      "execution_count": 3,
      "outputs": [
        {
          "execution_count": 3,
          "output_type": "execute_result",
          "data": {
            "text/plain": "['This', 'course', 'is', 'amazing!']"
          },
          "metadata": {}
        }
      ]
    },
    {
      "cell_type": "markdown",
      "source": "#### 3) Учитывая переменные height и mountain, используйте .format(), чтобы напечатать следующую строку:\n<center>`The height of Mt. Everest is 8848 meters.`</center>",
      "metadata": {}
    },
    {
      "cell_type": "code",
      "source": "# Ячейка для кода №3\nmountain = \"Mt. Everest\"\nheight = 8848\nprint(\"`The height of {} is {} meters.`\".format( mountain , height ))",
      "metadata": {
        "trusted": true
      },
      "execution_count": 4,
      "outputs": [
        {
          "name": "stdout",
          "text": "`The height of Mt. Everest is 8848 meters.`\n",
          "output_type": "stream"
        }
      ]
    },
    {
      "cell_type": "markdown",
      "source": "#### 4) Учитывая следующий вложенный список, используйте индексирование, чтобы захватить слово `\"this\"`.",
      "metadata": {}
    },
    {
      "cell_type": "code",
      "source": "# Ячейка для кода №4\nlst = ['a','b',[4,10,11],['c',[1,66,['this']],2,111],'e',7]\nlst[3][1][2][0]",
      "metadata": {
        "trusted": true
      },
      "execution_count": null,
      "outputs": [
        {
          "execution_count": 5,
          "output_type": "execute_result",
          "data": {
            "text/plain": "'this'"
          },
          "metadata": {}
        }
      ]
    },
    {
      "cell_type": "markdown",
      "source": "#### 5) Учитывая следующий вложенный словарь, захватите слово \"that\". Это упражнение немного сложнее.",
      "metadata": {}
    },
    {
      "cell_type": "code",
      "source": "# Ячейка для кода №5\nd = {'k1':['val1','val2','val3',{'we':['need','to','go',{'deeper':[1,2,3,'that']}]}]}\nd['k1'][3]['we'][3]['deeper'][3]",
      "metadata": {
        "trusted": true
      },
      "execution_count": 10,
      "outputs": [
        {
          "execution_count": 10,
          "output_type": "execute_result",
          "data": {
            "text/plain": "'that'"
          },
          "metadata": {}
        }
      ]
    },
    {
      "cell_type": "markdown",
      "source": "#### 6) В чем основное отличие между кортежем и списком? ",
      "metadata": {}
    },
    {
      "cell_type": "markdown",
      "source": "Список похож на массив и его можно изменять, а кортеж изменить нельзя, но можно преобразовать в список и отсортировать его.",
      "metadata": {}
    },
    {
      "cell_type": "markdown",
      "source": "#### 7) Создайте функцию GetDomain(), которая берёт имя домена в адресе электронной почты из строки в формате: `user@domain.com`.\nТак, например, передав ей \"user@domain.com\" она вернет: domain.com",
      "metadata": {}
    },
    {
      "cell_type": "code",
      "source": "# Ячейка для кода №6\ndef GetDomain(string):\n    return string.split('@')[-1]\nGetDomain('user@domain.com')",
      "metadata": {
        "trusted": true
      },
      "execution_count": 14,
      "outputs": [
        {
          "execution_count": 14,
          "output_type": "execute_result",
          "data": {
            "text/plain": "'domain.com'"
          },
          "metadata": {}
        }
      ]
    },
    {
      "cell_type": "markdown",
      "source": "#### 8) Создайте основную функцию findInternet(), которая вернет True, если слово 'Internet' содержится во входной строке. Не беспокойтесь о пограничных случаях как наличие символов пунктуации рядом со словом, но учитывайте регистр.",
      "metadata": {}
    },
    {
      "cell_type": "code",
      "source": "# Ячейка для кода №7\ndef findInternet(string):\n    return 'internet' in string.lower().split(' ')\nfindInternet('The Internet Engineering Task Force was created in 1986')",
      "metadata": {
        "trusted": true
      },
      "execution_count": 15,
      "outputs": [
        {
          "execution_count": 15,
          "output_type": "execute_result",
          "data": {
            "text/plain": "True"
          },
          "metadata": {}
        }
      ]
    },
    {
      "cell_type": "markdown",
      "source": "#### 9) Создайте функцию countIoT(),  которая подсчитывает сколько раз слово \"IoT\" встречается в строке.  Игнорируйте пограничные случаи, но учитывайте регистр.",
      "metadata": {}
    },
    {
      "cell_type": "code",
      "source": "# Ячейка для кода №№8\ndef countIoT(st):\n    d = st.lower().split(' ')\n    count = 0\n    for i in d:\n        if i == 'iot':\n            count += 1\n    return count\ncountIoT('I don\\'t know how to spell IoT ! Is it IoT or iot ? What does iot mean anyway?')",
      "metadata": {
        "trusted": true
      },
      "execution_count": 18,
      "outputs": [
        {
          "execution_count": 18,
          "output_type": "execute_result",
          "data": {
            "text/plain": "4"
          },
          "metadata": {}
        }
      ]
    },
    {
      "cell_type": "markdown",
      "source": "#### 10) Используйте лямбда-выражение и функцию filter() для фильтрации слов из списка, которые не начинаются с буквы 'd'. Например:\n\n    seq = ['data','salt' ,'dairy','cat', 'dog']\n\nдолжно быть отфильтровано в:\n\n    ['data', 'dairy', 'dog']",
      "metadata": {}
    },
    {
      "cell_type": "code",
      "source": "# Ячейка для кода №9\nseq = ['data','salt' ,'dairy','cat', 'dog']\nlist(filter(lambda seq: 'd' in seq, seq))\n",
      "metadata": {
        "trusted": true
      },
      "execution_count": 21,
      "outputs": [
        {
          "execution_count": 21,
          "output_type": "execute_result",
          "data": {
            "text/plain": "['data', 'dairy', 'dog']"
          },
          "metadata": {}
        }
      ]
    },
    {
      "cell_type": "markdown",
      "source": "#### 11) Используйте лямбда-выражение и функцию map() для преобразования списка слов в верхний регистр. Например:",
      "metadata": {}
    },
    {
      "cell_type": "markdown",
      "source": "seq = ['data','salt' ,'dairy','cat', 'dog']\n\nдолжно стать:\n\n   ['DATA', 'SALT', 'DAIRY', 'CAT', 'DOG']",
      "metadata": {}
    },
    {
      "cell_type": "code",
      "source": "# Ячейка для кода №10\nlist(map(lambda seq: seq.upper(), seq))",
      "metadata": {
        "trusted": true
      },
      "execution_count": 23,
      "outputs": [
        {
          "execution_count": 23,
          "output_type": "execute_result",
          "data": {
            "text/plain": "['DATA', 'SALT', 'DAIRY', 'CAT', 'DOG']"
          },
          "metadata": {}
        }
      ]
    },
    {
      "cell_type": "markdown",
      "source": "#### 12) Представьте себе интеллектуальный термостат, который соединен с дверью для того, чтобы он мог определять, помимо температуры, когда люди входят или выходят из дома.\nНапишите функцию, которая, при температуре ниже 20 градусов Цельсия, и наличии в доме людей (используйте переменную типа boolean, которая будет передана как параметр функции), включает нагрев, возвращая строку \"Heating on\". Когда температура достигает 23 градусов или если в доме нет людей, то она возвращает строку \"Heating off\". Когда ни одно из этих условий не выполняется, функция возвращает \"Do nothing\".",
      "metadata": {}
    },
    {
      "cell_type": "code",
      "source": "# Ячейка для кода №11\ndef smart_thermostat(temp, people_in):\n    if temp < 20 and people_in == True:\n        return 'Heating on'\n    if temp >= 23 or people_in == False:\n        return 'Heating off'\n    else:\n        return \"Do nothing\"",
      "metadata": {
        "tags": [],
        "trusted": true
      },
      "execution_count": 27,
      "outputs": []
    },
    {
      "cell_type": "code",
      "source": "# Ячейка для кода №12\n# Проверьте smart_thermostat()\nsmart_thermostat(21,True)",
      "metadata": {
        "trusted": true
      },
      "execution_count": 28,
      "outputs": [
        {
          "execution_count": 28,
          "output_type": "execute_result",
          "data": {
            "text/plain": "'Do nothing'"
          },
          "metadata": {}
        }
      ]
    },
    {
      "cell_type": "code",
      "source": "# Ячейка для кода №13\n# Проверьте smart_thermostat()\nsmart_thermostat(21,False)",
      "metadata": {
        "trusted": true
      },
      "execution_count": 29,
      "outputs": [
        {
          "execution_count": 29,
          "output_type": "execute_result",
          "data": {
            "text/plain": "'Heating off'"
          },
          "metadata": {}
        }
      ]
    },
    {
      "cell_type": "markdown",
      "source": "#### 13) Функция zip(list1, list2) возвращает список кортежей, где i-й кортеж содержит i-й элемент из каждого списка аргументов. Используйте функцию zip для создания следующего списка кортежей:",
      "metadata": {}
    },
    {
      "cell_type": "markdown",
      "source": "`zipped = [('Parking', -1), ('Shops',0), ('Food Court',1), ('Offices',2)]`",
      "metadata": {}
    },
    {
      "cell_type": "code",
      "source": "# Ячейка для кода №14\nfloor_types = ['Parking', 'Shops', 'Food Court', 'Offices']\nfloor_numbers = range(-1,3)\nzipped = list(zip(floor_types, floor_numbers)) \nprint(zipped)",
      "metadata": {
        "trusted": true
      },
      "execution_count": 32,
      "outputs": [
        {
          "name": "stdout",
          "text": "[('Parking', -1), ('Shops', 0), ('Food Court', 1), ('Offices', 2)]\n",
          "output_type": "stream"
        }
      ]
    },
    {
      "cell_type": "markdown",
      "source": "#### 14) Используйте функцию zip и dict() для создания словаря elevator_dict, где в качестве ключей выступают типы этажей, а значениями являются соответствующие им номера этажей, чтобы:\nelevator_dict[-1] = 'Parking'",
      "metadata": {}
    },
    {
      "cell_type": "code",
      "source": "# Ячейка для кода №15\nfloor_types = ['Parking', 'Shops', 'Food Court', 'Offices']\nfloors_numbers = range(-1,3)\nelevator_dict = dict(zip(floors_numbers, floor_types))\nprint(elevator_dict)",
      "metadata": {
        "trusted": true
      },
      "execution_count": 35,
      "outputs": [
        {
          "name": "stdout",
          "text": "{-1: 'Parking', 0: 'Shops', 1: 'Food Court', 2: 'Offices'}\n",
          "output_type": "stream"
        }
      ]
    },
    {
      "cell_type": "code",
      "source": "# Ячейка для кода №16\n# Проверьте elevator_dict[-1]\nelevator_dict[-1]",
      "metadata": {
        "trusted": true
      },
      "execution_count": 36,
      "outputs": [
        {
          "execution_count": 36,
          "output_type": "execute_result",
          "data": {
            "text/plain": "'Parking'"
          },
          "metadata": {}
        }
      ]
    },
    {
      "cell_type": "markdown",
      "source": "#### 15) Создайте класс `Elevator`. Конструктор принимает список строк `floor_types` и список целых чисел `floor_numbers`. Класс реализует методы 'ask_which_floor' и 'go_to_floor'. Результат этих методов должен выглядеть следующим образом:\n`floor_types = ['Parking', 'Shops', 'Food Court', 'Offices']\nfloors_numbers = range(-1,4)\n\nel = Elevator(floor_numbers, floor_types)\n\nel.go_to_floor(1)`\n\n`Going to Food Court floor!`\n\n`el.go_to_floor(-2)`\n\n`There is floor number -2 in this building.`\n\n`el.ask_which_floor('Offices')`\n\n`The floor Offices is the number: 2`\n\n`el.ask_which_floor('Swimming Pool')`\n\n`There is no Swimming Pool floor in this building.`",
      "metadata": {}
    },
    {
      "cell_type": "code",
      "source": "# Ячейка для кода №17\nclass Elevator:\n    \n    def __init__(self, floor_numbers, floor_types):\n        self._floor_numbers = floor_numbers\n        self._floor_types = floor_types\n        self._number_to_type_dict = dict(zip(floor_numbers, floor_types)) \n        self._type_to_number_dict = dict(zip(floor_types, floor_numbers)) \n        \n    def ask_which_floor(self, floor_type):    \n        if floor_type in self._floor_types:\n            print('The {} floor is the number: {}.'.format(floor_type, self._type_to_number_dict[floor_type]))\n        else:\n            print('There is no {} floor in this building.'.format(floor_type))\n    \n    def go_to_floor(self, floor_number):\n        if floor_number >= -1 and floor_number\n            return f'Going to {self._number_to_type_dict[floor_number]} floor!'\n        else\n            return ",
      "metadata": {
        "tags": [],
        "trusted": true
      },
      "execution_count": 50,
      "outputs": []
    },
    {
      "cell_type": "code",
      "source": "# Проверьте ячейку для кода 18\nel = Elevator(floor_numbers, floor_types)\nel.go_to_floor(1)",
      "metadata": {
        "trusted": true
      },
      "execution_count": 51,
      "outputs": [
        {
          "execution_count": 51,
          "output_type": "execute_result",
          "data": {
            "text/plain": "'Going to Food Court floor!'"
          },
          "metadata": {}
        }
      ]
    },
    {
      "cell_type": "code",
      "source": "# Проверьте ячейку для кода 19\nel.go_to_floor(-2)",
      "metadata": {
        "trusted": true
      },
      "execution_count": 53,
      "outputs": [
        {
          "execution_count": 53,
          "output_type": "execute_result",
          "data": {
            "text/plain": "'Going to Parking floor!'"
          },
          "metadata": {}
        }
      ]
    },
    {
      "cell_type": "code",
      "source": "# Проверьте ячейку для кода 20\nel.ask_which_floor('Offices')",
      "metadata": {
        "scrolled": true,
        "trusted": true
      },
      "execution_count": 44,
      "outputs": [
        {
          "name": "stdout",
          "text": "The Offices floor is the number: 2.\n",
          "output_type": "stream"
        }
      ]
    },
    {
      "cell_type": "code",
      "source": "# Проверьте ячейку для кода 21\nel.ask_which_floor('Swimming Pool')",
      "metadata": {
        "trusted": true
      },
      "execution_count": 45,
      "outputs": [
        {
          "name": "stdout",
          "text": "There is no Swimming Pool floor in this building.\n",
          "output_type": "stream"
        }
      ]
    },
    {
      "cell_type": "markdown",
      "source": "# Отличная работа!",
      "metadata": {}
    },
    {
      "cell_type": "markdown",
      "source": "<font size='0.5'>&copy; 2017 Cisco and/or its affiliates. All rights reserved. This document is Cisco Public.<font>",
      "metadata": {}
    }
  ]
}